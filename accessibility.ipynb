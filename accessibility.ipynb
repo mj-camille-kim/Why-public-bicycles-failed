{
 "cells": [
  {
   "cell_type": "code",
   "execution_count": 123,
   "id": "a58fbf8c",
   "metadata": {},
   "outputs": [
    {
     "name": "stdout",
     "output_type": "stream",
     "text": [
      "Requirement already satisfied: geopandas in /Users/minjikim/opt/anaconda3/envs/sesac-env/lib/python3.10/site-packages (1.1.1)\n",
      "Requirement already satisfied: shapely in /Users/minjikim/opt/anaconda3/envs/sesac-env/lib/python3.10/site-packages (2.1.2)\n",
      "Requirement already satisfied: numpy>=1.24 in /Users/minjikim/opt/anaconda3/envs/sesac-env/lib/python3.10/site-packages (from geopandas) (2.2.6)\n",
      "Requirement already satisfied: pyogrio>=0.7.2 in /Users/minjikim/opt/anaconda3/envs/sesac-env/lib/python3.10/site-packages (from geopandas) (0.11.1)\n",
      "Requirement already satisfied: packaging in /Users/minjikim/opt/anaconda3/envs/sesac-env/lib/python3.10/site-packages (from geopandas) (25.0)\n",
      "Requirement already satisfied: pandas>=2.0.0 in /Users/minjikim/opt/anaconda3/envs/sesac-env/lib/python3.10/site-packages (from geopandas) (2.3.2)\n",
      "Requirement already satisfied: pyproj>=3.5.0 in /Users/minjikim/opt/anaconda3/envs/sesac-env/lib/python3.10/site-packages (from geopandas) (3.7.1)\n",
      "Requirement already satisfied: python-dateutil>=2.8.2 in /Users/minjikim/opt/anaconda3/envs/sesac-env/lib/python3.10/site-packages (from pandas>=2.0.0->geopandas) (2.9.0.post0)\n",
      "Requirement already satisfied: pytz>=2020.1 in /Users/minjikim/opt/anaconda3/envs/sesac-env/lib/python3.10/site-packages (from pandas>=2.0.0->geopandas) (2025.2)\n",
      "Requirement already satisfied: tzdata>=2022.7 in /Users/minjikim/opt/anaconda3/envs/sesac-env/lib/python3.10/site-packages (from pandas>=2.0.0->geopandas) (2025.2)\n",
      "Requirement already satisfied: certifi in /Users/minjikim/opt/anaconda3/envs/sesac-env/lib/python3.10/site-packages (from pyogrio>=0.7.2->geopandas) (2025.8.3)\n",
      "Requirement already satisfied: six>=1.5 in /Users/minjikim/opt/anaconda3/envs/sesac-env/lib/python3.10/site-packages (from python-dateutil>=2.8.2->pandas>=2.0.0->geopandas) (1.17.0)\n",
      "Note: you may need to restart the kernel to use updated packages.\n"
     ]
    }
   ],
   "source": [
    "pip install geopandas shapely"
   ]
  },
  {
   "cell_type": "code",
   "execution_count": 124,
   "id": "d875bef7",
   "metadata": {},
   "outputs": [],
   "source": [
    "import pandas as pd\n",
    "from shapely.geometry import Point\n",
    "import geopandas as gpd\n",
    "import numpy as np"
   ]
  },
  {
   "cell_type": "markdown",
   "id": "05335274",
   "metadata": {},
   "source": [
    "## 대여소별 가장 가까운 대여소 거리 구하기"
   ]
  },
  {
   "cell_type": "code",
   "execution_count": null,
   "id": "f5c22ae8",
   "metadata": {},
   "outputs": [
    {
     "name": "stdout",
     "output_type": "stream",
     "text": [
      "   대여소_ID                      주소1            주소2         위도          경도\n",
      "0  ST-999       서울특별시 양천구 목동서로 280  목동아파트 8단지 상가동   0.000000    0.000000\n",
      "1  ST-998       서울특별시 양천구 목동서로 130  목동아파트 4단지 상가동   0.000000    0.000000\n",
      "2  ST-997       서울특별시 양천구 목동중앙로 49  목동3단지 시내버스정류장  37.534390  126.869598\n",
      "3  ST-996   서울특별시 양천구 남부순환로88길5-16     양강중학교앞 교차로  37.524334  126.850548\n",
      "4  ST-995  서울특별시 양천구 중앙로 153 공중화장실            NaN  37.510597  126.857323\n"
     ]
    }
   ],
   "source": [
    "# CSV 파일 경로\n",
    "file_path = \"/Users/minjikim/Desktop/sesac/프로젝트 1/contents/seoul_bicycle_masterinfo.csv\"\n",
    "\n",
    "# CSV 읽기\n",
    "df = pd.read_csv(file_path, encoding='cp949')\n",
    "\n",
    "# 데이터 확인\n",
    "print(df.head())  # 상위 5개 행 확인"
   ]
  },
  {
   "cell_type": "code",
   "execution_count": 126,
   "id": "0ce08829",
   "metadata": {},
   "outputs": [
    {
     "data": {
      "text/plain": [
       "0        ST-999\n",
       "1        ST-998\n",
       "2        ST-997\n",
       "3        ST-996\n",
       "4        ST-995\n",
       "         ...   \n",
       "3390    ST-1002\n",
       "3391    ST-1001\n",
       "3392    ST-1000\n",
       "3393     ST-100\n",
       "3394      ST-10\n",
       "Name: 대여소_ID, Length: 3395, dtype: object"
      ]
     },
     "execution_count": 126,
     "metadata": {},
     "output_type": "execute_result"
    }
   ],
   "source": [
    "df[\"대여소_ID\"]"
   ]
  },
  {
   "cell_type": "code",
   "execution_count": 127,
   "id": "71f7e40a",
   "metadata": {},
   "outputs": [
    {
     "data": {
      "text/plain": [
       "0                     POINT (0 0)\n",
       "1                     POINT (0 0)\n",
       "2     POINT (126.869598 37.53439)\n",
       "3    POINT (126.850548 37.524334)\n",
       "4    POINT (126.857323 37.510597)\n",
       "Name: point_location, dtype: object"
      ]
     },
     "execution_count": 127,
     "metadata": {},
     "output_type": "execute_result"
    }
   ],
   "source": [
    "df['location'] = list(zip(df['경도'], df['위도']))\n",
    "df['point_location'] = df['location'].apply(lambda x: Point(x))\n",
    "df['point_location'].head()"
   ]
  },
  {
   "cell_type": "code",
   "execution_count": null,
   "id": "4eca1431",
   "metadata": {},
   "outputs": [],
   "source": [
    "# 1️⃣ point_location 이미 Point라고 가정\n",
    "geometry = gpd.GeoSeries(df['point_location'])\n",
    "\n",
    "# 2️⃣ GeoDataFrame 생성\n",
    "seoul_stations = gpd.GeoDataFrame(df[['대여소_ID']].copy(), geometry=geometry)\n",
    "\n",
    "# 3️⃣ 현재 좌표계 지정 (WGS84 위도/경도)\n",
    "seoul_stations = seoul_stations.set_crs(epsg=4326)\n",
    "\n",
    "# 4️⃣ 미터 단위 좌표계(Korea TM)로 변환\n",
    "seoul_stations = seoul_stations.to_crs(epsg=5179)\n",
    "\n",
    "# 5️⃣ 거리 계산 (벡터화)\n",
    "dist_matrix = seoul_stations.geometry.apply(lambda x: seoul_stations.distance(x))\n",
    "np.fill_diagonal(dist_matrix.values, np.nan)\n",
    "seoul_stations['nearest_station_dist'] = dist_matrix.min(axis=1).round(2)"
   ]
  },
  {
   "cell_type": "code",
   "execution_count": 132,
   "id": "75522ceb",
   "metadata": {},
   "outputs": [
    {
     "data": {
      "text/html": [
       "<div>\n",
       "<style scoped>\n",
       "    .dataframe tbody tr th:only-of-type {\n",
       "        vertical-align: middle;\n",
       "    }\n",
       "\n",
       "    .dataframe tbody tr th {\n",
       "        vertical-align: top;\n",
       "    }\n",
       "\n",
       "    .dataframe thead th {\n",
       "        text-align: right;\n",
       "    }\n",
       "</style>\n",
       "<table border=\"1\" class=\"dataframe\">\n",
       "  <thead>\n",
       "    <tr style=\"text-align: right;\">\n",
       "      <th></th>\n",
       "      <th>대여소_ID</th>\n",
       "      <th>geometry</th>\n",
       "      <th>nearest_station_dist</th>\n",
       "    </tr>\n",
       "  </thead>\n",
       "  <tbody>\n",
       "    <tr>\n",
       "      <th>0</th>\n",
       "      <td>ST-999</td>\n",
       "      <td>POINT (-5899757.108 17790114.866)</td>\n",
       "      <td>0.00</td>\n",
       "    </tr>\n",
       "    <tr>\n",
       "      <th>1</th>\n",
       "      <td>ST-998</td>\n",
       "      <td>POINT (-5899757.108 17790114.866)</td>\n",
       "      <td>0.00</td>\n",
       "    </tr>\n",
       "    <tr>\n",
       "      <th>2</th>\n",
       "      <td>ST-997</td>\n",
       "      <td>POINT (944303.993 1948528.325)</td>\n",
       "      <td>218.83</td>\n",
       "    </tr>\n",
       "    <tr>\n",
       "      <th>3</th>\n",
       "      <td>ST-996</td>\n",
       "      <td>POINT (942613.203 1947424.115)</td>\n",
       "      <td>260.70</td>\n",
       "    </tr>\n",
       "    <tr>\n",
       "      <th>4</th>\n",
       "      <td>ST-995</td>\n",
       "      <td>POINT (943201.45 1945895.954)</td>\n",
       "      <td>162.59</td>\n",
       "    </tr>\n",
       "    <tr>\n",
       "      <th>...</th>\n",
       "      <td>...</td>\n",
       "      <td>...</td>\n",
       "      <td>...</td>\n",
       "    </tr>\n",
       "    <tr>\n",
       "      <th>3390</th>\n",
       "      <td>ST-1002</td>\n",
       "      <td>POINT (944914.111 1948026.093)</td>\n",
       "      <td>137.72</td>\n",
       "    </tr>\n",
       "    <tr>\n",
       "      <th>3391</th>\n",
       "      <td>ST-1001</td>\n",
       "      <td>POINT (-5899757.108 17790114.866)</td>\n",
       "      <td>0.00</td>\n",
       "    </tr>\n",
       "    <tr>\n",
       "      <th>3392</th>\n",
       "      <td>ST-1000</td>\n",
       "      <td>POINT (944038.679 1945866.202)</td>\n",
       "      <td>250.53</td>\n",
       "    </tr>\n",
       "    <tr>\n",
       "      <th>3393</th>\n",
       "      <td>ST-100</td>\n",
       "      <td>POINT (962328.201 1948679.677)</td>\n",
       "      <td>284.26</td>\n",
       "    </tr>\n",
       "    <tr>\n",
       "      <th>3394</th>\n",
       "      <td>ST-10</td>\n",
       "      <td>POINT (948647.454 1950536.928)</td>\n",
       "      <td>241.53</td>\n",
       "    </tr>\n",
       "  </tbody>\n",
       "</table>\n",
       "<p>3395 rows × 3 columns</p>\n",
       "</div>"
      ],
      "text/plain": [
       "       대여소_ID                           geometry  nearest_station_dist\n",
       "0      ST-999  POINT (-5899757.108 17790114.866)                  0.00\n",
       "1      ST-998  POINT (-5899757.108 17790114.866)                  0.00\n",
       "2      ST-997     POINT (944303.993 1948528.325)                218.83\n",
       "3      ST-996     POINT (942613.203 1947424.115)                260.70\n",
       "4      ST-995      POINT (943201.45 1945895.954)                162.59\n",
       "...       ...                                ...                   ...\n",
       "3390  ST-1002     POINT (944914.111 1948026.093)                137.72\n",
       "3391  ST-1001  POINT (-5899757.108 17790114.866)                  0.00\n",
       "3392  ST-1000     POINT (944038.679 1945866.202)                250.53\n",
       "3393   ST-100     POINT (962328.201 1948679.677)                284.26\n",
       "3394    ST-10     POINT (948647.454 1950536.928)                241.53\n",
       "\n",
       "[3395 rows x 3 columns]"
      ]
     },
     "execution_count": 132,
     "metadata": {},
     "output_type": "execute_result"
    }
   ],
   "source": [
    "seoul_stations"
   ]
  },
  {
   "cell_type": "markdown",
   "id": "0c4427ef",
   "metadata": {},
   "source": [
    "## 대여소별 일주일 대여건수 구하기"
   ]
  },
  {
   "cell_type": "code",
   "execution_count": null,
   "id": "4b244b73",
   "metadata": {},
   "outputs": [],
   "source": [
    "file_path = \"/Users/minjikim/Desktop/sesac/프로젝트 1/contents/tpss_bcycl_od_statnhm_20251011.csv\"\n",
    "\n",
    "# CSV 읽기\n",
    "df = pd.read_csv(file_path, encoding='cp949')\n",
    "\n",
    "# 데이터 확인\n",
    "df"
   ]
  }
 ],
 "metadata": {
  "kernelspec": {
   "display_name": "sesac-env",
   "language": "python",
   "name": "python3"
  },
  "language_info": {
   "codemirror_mode": {
    "name": "ipython",
    "version": 3
   },
   "file_extension": ".py",
   "mimetype": "text/x-python",
   "name": "python",
   "nbconvert_exporter": "python",
   "pygments_lexer": "ipython3",
   "version": "3.10.0"
  }
 },
 "nbformat": 4,
 "nbformat_minor": 5
}
