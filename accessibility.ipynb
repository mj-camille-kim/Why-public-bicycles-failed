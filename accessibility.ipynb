{
 "cells": [
  {
   "cell_type": "code",
   "execution_count": null,
   "id": "a58fbf8c",
   "metadata": {},
   "outputs": [
    {
     "name": "stdout",
     "output_type": "stream",
     "text": [
      "Requirement already satisfied: geopandas in /Users/minjikim/opt/anaconda3/envs/sesac-env/lib/python3.10/site-packages (1.1.1)\n",
      "Requirement already satisfied: shapely in /Users/minjikim/opt/anaconda3/envs/sesac-env/lib/python3.10/site-packages (2.1.2)\n",
      "Requirement already satisfied: numpy>=1.24 in /Users/minjikim/opt/anaconda3/envs/sesac-env/lib/python3.10/site-packages (from geopandas) (2.2.6)\n",
      "Requirement already satisfied: pyogrio>=0.7.2 in /Users/minjikim/opt/anaconda3/envs/sesac-env/lib/python3.10/site-packages (from geopandas) (0.11.1)\n",
      "Requirement already satisfied: packaging in /Users/minjikim/opt/anaconda3/envs/sesac-env/lib/python3.10/site-packages (from geopandas) (25.0)\n",
      "Requirement already satisfied: pandas>=2.0.0 in /Users/minjikim/opt/anaconda3/envs/sesac-env/lib/python3.10/site-packages (from geopandas) (2.3.2)\n",
      "Requirement already satisfied: pyproj>=3.5.0 in /Users/minjikim/opt/anaconda3/envs/sesac-env/lib/python3.10/site-packages (from geopandas) (3.7.1)\n",
      "Requirement already satisfied: python-dateutil>=2.8.2 in /Users/minjikim/opt/anaconda3/envs/sesac-env/lib/python3.10/site-packages (from pandas>=2.0.0->geopandas) (2.9.0.post0)\n",
      "Requirement already satisfied: pytz>=2020.1 in /Users/minjikim/opt/anaconda3/envs/sesac-env/lib/python3.10/site-packages (from pandas>=2.0.0->geopandas) (2025.2)\n",
      "Requirement already satisfied: tzdata>=2022.7 in /Users/minjikim/opt/anaconda3/envs/sesac-env/lib/python3.10/site-packages (from pandas>=2.0.0->geopandas) (2025.2)\n",
      "Requirement already satisfied: certifi in /Users/minjikim/opt/anaconda3/envs/sesac-env/lib/python3.10/site-packages (from pyogrio>=0.7.2->geopandas) (2025.8.3)\n",
      "Requirement already satisfied: six>=1.5 in /Users/minjikim/opt/anaconda3/envs/sesac-env/lib/python3.10/site-packages (from python-dateutil>=2.8.2->pandas>=2.0.0->geopandas) (1.17.0)\n",
      "Note: you may need to restart the kernel to use updated packages.\n"
     ]
    }
   ],
   "source": [
    "# pip install geopandas shapely"
   ]
  },
  {
   "cell_type": "code",
   "execution_count": 5,
   "id": "d875bef7",
   "metadata": {},
   "outputs": [],
   "source": [
    "import pandas as pd\n",
    "from shapely.geometry import Point\n",
    "import geopandas as gpd\n",
    "import numpy as np"
   ]
  },
  {
   "cell_type": "markdown",
   "id": "05335274",
   "metadata": {},
   "source": [
    "## 대여소별 가장 가까운 대여소 거리 구하기"
   ]
  },
  {
   "cell_type": "code",
   "execution_count": 1,
   "id": "f5c22ae8",
   "metadata": {},
   "outputs": [
    {
     "ename": "NameError",
     "evalue": "name 'pd' is not defined",
     "output_type": "error",
     "traceback": [
      "\u001b[1;31m---------------------------------------------------------------------------\u001b[0m",
      "\u001b[1;31mNameError\u001b[0m                                 Traceback (most recent call last)",
      "Cell \u001b[1;32mIn[1], line 5\u001b[0m\n\u001b[0;32m      2\u001b[0m file_path \u001b[38;5;241m=\u001b[39m \u001b[38;5;124m\"\u001b[39m\u001b[38;5;124m/Users/minjikim/Desktop/sesac/프로젝트 1/contents/seoul_bicycle_masterinfo.csv\u001b[39m\u001b[38;5;124m\"\u001b[39m\n\u001b[0;32m      4\u001b[0m \u001b[38;5;66;03m# CSV 읽기\u001b[39;00m\n\u001b[1;32m----> 5\u001b[0m df \u001b[38;5;241m=\u001b[39m pd\u001b[38;5;241m.\u001b[39mread_csv(file_path, encoding\u001b[38;5;241m=\u001b[39m\u001b[38;5;124m'\u001b[39m\u001b[38;5;124mcp949\u001b[39m\u001b[38;5;124m'\u001b[39m)\n\u001b[0;32m      7\u001b[0m \u001b[38;5;66;03m# 데이터 확인\u001b[39;00m\n\u001b[0;32m      8\u001b[0m \u001b[38;5;28mprint\u001b[39m(df\u001b[38;5;241m.\u001b[39mhead())\n",
      "\u001b[1;31mNameError\u001b[0m: name 'pd' is not defined"
     ]
    }
   ],
   "source": [
    "# CSV 파일 경로\n",
    "file_path = \"/Users/minjikim/Desktop/sesac/프로젝트 1/contents/seoul_bicycle_masterinfo.csv\"\n",
    "\n",
    "# CSV 읽기\n",
    "df = pd.read_csv(file_path, encoding='cp949')\n",
    "\n",
    "# 데이터 확인\n",
    "print(df.head())  # 상위 5개 행 확인"
   ]
  },
  {
   "cell_type": "code",
   "execution_count": null,
   "id": "0ce08829",
   "metadata": {},
   "outputs": [
    {
     "data": {
      "text/plain": [
       "0        ST-999\n",
       "1        ST-998\n",
       "2        ST-997\n",
       "3        ST-996\n",
       "4        ST-995\n",
       "         ...   \n",
       "3390    ST-1002\n",
       "3391    ST-1001\n",
       "3392    ST-1000\n",
       "3393     ST-100\n",
       "3394      ST-10\n",
       "Name: 대여소_ID, Length: 3395, dtype: object"
      ]
     },
     "execution_count": 126,
     "metadata": {},
     "output_type": "execute_result"
    }
   ],
   "source": [
    "df[\"대여소_ID\"]"
   ]
  },
  {
   "cell_type": "code",
   "execution_count": null,
   "id": "71f7e40a",
   "metadata": {},
   "outputs": [
    {
     "data": {
      "text/plain": [
       "0                     POINT (0 0)\n",
       "1                     POINT (0 0)\n",
       "2     POINT (126.869598 37.53439)\n",
       "3    POINT (126.850548 37.524334)\n",
       "4    POINT (126.857323 37.510597)\n",
       "Name: point_location, dtype: object"
      ]
     },
     "execution_count": 127,
     "metadata": {},
     "output_type": "execute_result"
    }
   ],
   "source": [
    "df['location'] = list(zip(df['경도'], df['위도']))\n",
    "df['point_location'] = df['location'].apply(lambda x: Point(x))\n",
    "df['point_location'].head()"
   ]
  },
  {
   "cell_type": "code",
   "execution_count": null,
   "id": "4eca1431",
   "metadata": {},
   "outputs": [],
   "source": [
    "# 1️⃣ point_location 이미 Point라고 가정\n",
    "geometry = gpd.GeoSeries(df['point_location'])\n",
    "\n",
    "# 2️⃣ GeoDataFrame 생성\n",
    "seoul_stations = gpd.GeoDataFrame(df[['대여소_ID']].copy(), geometry=geometry)\n",
    "\n",
    "# 3️⃣ 현재 좌표계 지정 (WGS84 위도/경도)\n",
    "seoul_stations = seoul_stations.set_crs(epsg=4326)\n",
    "\n",
    "# 4️⃣ 미터 단위 좌표계(Korea TM)로 변환\n",
    "seoul_stations = seoul_stations.to_crs(epsg=5179)\n",
    "\n",
    "# 5️⃣ 거리 계산 (벡터화)\n",
    "dist_matrix = seoul_stations.geometry.apply(lambda x: seoul_stations.distance(x))\n",
    "np.fill_diagonal(dist_matrix.values, np.nan)\n",
    "seoul_stations['nearest_station_dist'] = dist_matrix.min(axis=1).round(2)"
   ]
  },
  {
   "cell_type": "code",
   "execution_count": null,
   "id": "75522ceb",
   "metadata": {},
   "outputs": [
    {
     "data": {
      "text/html": [
       "<div>\n",
       "<style scoped>\n",
       "    .dataframe tbody tr th:only-of-type {\n",
       "        vertical-align: middle;\n",
       "    }\n",
       "\n",
       "    .dataframe tbody tr th {\n",
       "        vertical-align: top;\n",
       "    }\n",
       "\n",
       "    .dataframe thead th {\n",
       "        text-align: right;\n",
       "    }\n",
       "</style>\n",
       "<table border=\"1\" class=\"dataframe\">\n",
       "  <thead>\n",
       "    <tr style=\"text-align: right;\">\n",
       "      <th></th>\n",
       "      <th>대여소_ID</th>\n",
       "      <th>geometry</th>\n",
       "      <th>nearest_station_dist</th>\n",
       "    </tr>\n",
       "  </thead>\n",
       "  <tbody>\n",
       "    <tr>\n",
       "      <th>0</th>\n",
       "      <td>ST-999</td>\n",
       "      <td>POINT (-5899757.108 17790114.866)</td>\n",
       "      <td>0.00</td>\n",
       "    </tr>\n",
       "    <tr>\n",
       "      <th>1</th>\n",
       "      <td>ST-998</td>\n",
       "      <td>POINT (-5899757.108 17790114.866)</td>\n",
       "      <td>0.00</td>\n",
       "    </tr>\n",
       "    <tr>\n",
       "      <th>2</th>\n",
       "      <td>ST-997</td>\n",
       "      <td>POINT (944303.993 1948528.325)</td>\n",
       "      <td>218.83</td>\n",
       "    </tr>\n",
       "    <tr>\n",
       "      <th>3</th>\n",
       "      <td>ST-996</td>\n",
       "      <td>POINT (942613.203 1947424.115)</td>\n",
       "      <td>260.70</td>\n",
       "    </tr>\n",
       "    <tr>\n",
       "      <th>4</th>\n",
       "      <td>ST-995</td>\n",
       "      <td>POINT (943201.45 1945895.954)</td>\n",
       "      <td>162.59</td>\n",
       "    </tr>\n",
       "    <tr>\n",
       "      <th>...</th>\n",
       "      <td>...</td>\n",
       "      <td>...</td>\n",
       "      <td>...</td>\n",
       "    </tr>\n",
       "    <tr>\n",
       "      <th>3390</th>\n",
       "      <td>ST-1002</td>\n",
       "      <td>POINT (944914.111 1948026.093)</td>\n",
       "      <td>137.72</td>\n",
       "    </tr>\n",
       "    <tr>\n",
       "      <th>3391</th>\n",
       "      <td>ST-1001</td>\n",
       "      <td>POINT (-5899757.108 17790114.866)</td>\n",
       "      <td>0.00</td>\n",
       "    </tr>\n",
       "    <tr>\n",
       "      <th>3392</th>\n",
       "      <td>ST-1000</td>\n",
       "      <td>POINT (944038.679 1945866.202)</td>\n",
       "      <td>250.53</td>\n",
       "    </tr>\n",
       "    <tr>\n",
       "      <th>3393</th>\n",
       "      <td>ST-100</td>\n",
       "      <td>POINT (962328.201 1948679.677)</td>\n",
       "      <td>284.26</td>\n",
       "    </tr>\n",
       "    <tr>\n",
       "      <th>3394</th>\n",
       "      <td>ST-10</td>\n",
       "      <td>POINT (948647.454 1950536.928)</td>\n",
       "      <td>241.53</td>\n",
       "    </tr>\n",
       "  </tbody>\n",
       "</table>\n",
       "<p>3395 rows × 3 columns</p>\n",
       "</div>"
      ],
      "text/plain": [
       "       대여소_ID                           geometry  nearest_station_dist\n",
       "0      ST-999  POINT (-5899757.108 17790114.866)                  0.00\n",
       "1      ST-998  POINT (-5899757.108 17790114.866)                  0.00\n",
       "2      ST-997     POINT (944303.993 1948528.325)                218.83\n",
       "3      ST-996     POINT (942613.203 1947424.115)                260.70\n",
       "4      ST-995      POINT (943201.45 1945895.954)                162.59\n",
       "...       ...                                ...                   ...\n",
       "3390  ST-1002     POINT (944914.111 1948026.093)                137.72\n",
       "3391  ST-1001  POINT (-5899757.108 17790114.866)                  0.00\n",
       "3392  ST-1000     POINT (944038.679 1945866.202)                250.53\n",
       "3393   ST-100     POINT (962328.201 1948679.677)                284.26\n",
       "3394    ST-10     POINT (948647.454 1950536.928)                241.53\n",
       "\n",
       "[3395 rows x 3 columns]"
      ]
     },
     "execution_count": 132,
     "metadata": {},
     "output_type": "execute_result"
    }
   ],
   "source": [
    "seoul_stations"
   ]
  },
  {
   "cell_type": "markdown",
   "id": "0c4427ef",
   "metadata": {},
   "source": [
    "## 대여소별 일주일 대여건수 구하기"
   ]
  },
  {
   "cell_type": "code",
   "execution_count": null,
   "id": "4b244b73",
   "metadata": {},
   "outputs": [],
   "source": [
    "file_path = \"/Users/minjikim/Desktop/sesac/프로젝트 1/contents/tpss_bcycl_od_statnhm_20251011.csv\"\n",
    "\n",
    "# CSV 읽기\n",
    "df = pd.read_csv(file_path, encoding='cp949')\n",
    "\n",
    "# 데이터 확인\n",
    "df"
   ]
  },
  {
   "cell_type": "markdown",
   "id": "eb24c4ad",
   "metadata": {},
   "source": [
    "## 대여소기준 가까운 지하철역, 버스정류장과의 거리\n",
    "#### 최은진 2025/10/17"
   ]
  },
  {
   "cell_type": "code",
   "execution_count": 3,
   "id": "8d8170d7",
   "metadata": {},
   "outputs": [],
   "source": [
    "# 파일 경로\n",
    "bike_csv_path = 'data/seoul_bicycle_masterinfo.csv'\n",
    "subway_csv_path = 'data/서울시 역사 마스터 정보.csv'\n",
    "bus_csv_path = 'data/서울시 버스정류소 위치정보.csv'\n",
    "\n",
    "# 컬럼명 설정\n",
    "\n",
    "# 따릉이 대여소 파일\n",
    "BIKE_LON_COL = '경도' \n",
    "BIKE_LAT_COL = '위도' \n",
    "\n",
    "# 지하철 역사 파일\n",
    "SUBWAY_LON_COL = '경도' \n",
    "SUBWAY_LAT_COL = '위도'\n",
    "\n",
    "# 버스 정류장 파일\n",
    "BUS_LON_COL = 'X좌표' \n",
    "BUS_LAT_COL = 'Y좌표'"
   ]
  },
  {
   "cell_type": "code",
   "execution_count": 7,
   "id": "583d7cb7",
   "metadata": {},
   "outputs": [
    {
     "name": "stdout",
     "output_type": "stream",
     "text": [
      "따릉이 대여소 수: 3395\n",
      "지하철 역사 수: 783\n",
      "버스 정류장 수: 11290\n"
     ]
    }
   ],
   "source": [
    "# CSV 파일을 GeoDataFrame으로 변환하는 함수 정의\n",
    "def create_gdf(file_path, lon_col, lat_col):\n",
    "    df = pd.read_csv(file_path, encoding='cp949')\n",
    "    geometry = gpd.points_from_xy(df[lon_col], df[lat_col])\n",
    "    gdf = gpd.GeoDataFrame(df, geometry=geometry, crs='EPSG:4326')\n",
    "    return gdf\n",
    "\n",
    "# 데이터 로드 및 변환\n",
    "bike_stations = create_gdf(bike_csv_path, BIKE_LON_COL, BIKE_LAT_COL)\n",
    "subway_stations = create_gdf(subway_csv_path, SUBWAY_LON_COL, SUBWAY_LAT_COL)\n",
    "bus_stations = create_gdf(bus_csv_path, BUS_LON_COL, BUS_LAT_COL)\n",
    "\n",
    "# 데이터 로드 확인\n",
    "if bike_stations is None or subway_stations is None or bus_stations is None:\n",
    "    print(\"데이터 로드에 문제가 있습니다. 컬럼명을 다시 확인해주세요.\")\n",
    "    # exit() \n",
    "else:\n",
    "    print(f\"따릉이 대여소 수: {len(bike_stations)}\")\n",
    "    print(f\"지하철 역사 수: {len(subway_stations)}\")\n",
    "    print(f\"버스 정류장 수: {len(bus_stations)}\")"
   ]
  },
  {
   "cell_type": "code",
   "execution_count": 14,
   "id": "92e3a379",
   "metadata": {},
   "outputs": [],
   "source": [
    "CRS_METER = 'EPSG:5186' \n",
    "\n",
    "bike_stations = bike_stations.to_crs(CRS_METER) \n",
    "\n",
    "# 지하철, 버스 데이터 변환 (이상치 제거 전에 변환해야 함)\n",
    "subway_stations_m = subway_stations.to_crs(CRS_METER) \n",
    "bus_stations_m = bus_stations.to_crs(CRS_METER)"
   ]
  },
  {
   "cell_type": "markdown",
   "id": "46daff97",
   "metadata": {},
   "source": [
    "## 이상치 제거"
   ]
  },
  {
   "cell_type": "code",
   "execution_count": 15,
   "id": "09171243",
   "metadata": {},
   "outputs": [
    {
     "name": "stdout",
     "output_type": "stream",
     "text": [
      "이상치 제거 전 지하철역 수: 783\n",
      "이상치 제거 후 지하철역 수: 753\n"
     ]
    }
   ],
   "source": [
    "# 지하철역 WGS84 좌표계로 돌아가서 이상치 확인\n",
    "subway_stations_wgs84 = subway_stations.to_crs(epsg=4326)\n",
    "\n",
    "# 서울 범위 이외의 좌표를 가진 이상치 제거 (경도 126.5~127.5, 위도 37.0~38.0)\n",
    "subway_stations_clean = subway_stations_wgs84[\n",
    "    (subway_stations_wgs84[SUBWAY_LON_COL] > 126.5) & \n",
    "    (subway_stations_wgs84[SUBWAY_LON_COL] < 127.5) & \n",
    "    (subway_stations_wgs84[SUBWAY_LAT_COL] > 37.0) & \n",
    "    (subway_stations_wgs84[SUBWAY_LAT_COL] < 38.0)\n",
    "].copy()\n",
    "\n",
    "# 다시 미터 좌표계로 변환하여 사용\n",
    "subway_stations_clean = subway_stations_clean.to_crs(CRS_METER)\n",
    "print(f\"이상치 제거 전 지하철역 수: {len(subway_stations)}\")\n",
    "print(f\"이상치 제거 후 지하철역 수: {len(subway_stations_clean)}\")"
   ]
  },
  {
   "cell_type": "code",
   "execution_count": 16,
   "id": "087ea1a6",
   "metadata": {},
   "outputs": [
    {
     "name": "stdout",
     "output_type": "stream",
     "text": [
      "이상치 제거 전 버스 정류장 수: 11290\n",
      "이상치 제거 후 버스 정류장 수: 11290\n"
     ]
    }
   ],
   "source": [
    "# 버스 정류장 이상치 확인\n",
    "bus_stations_wgs84 = bus_stations.to_crs(epsg=4326)\n",
    "\n",
    "# 서울 범위 이외의 좌표를 가진 이상치 제거 (경도 126.5~127.5, 위도 37.0~38.0)\n",
    "bus_stations_clean = bus_stations_wgs84[\n",
    "    (bus_stations_wgs84[BUS_LON_COL] > 126.5) & \n",
    "    (bus_stations_wgs84[BUS_LON_COL] < 127.5) & \n",
    "    (bus_stations_wgs84[BUS_LAT_COL] > 37.0) & \n",
    "    (bus_stations_wgs84[BUS_LAT_COL] < 38.0)\n",
    "].copy()\n",
    "\n",
    "# 다시 미터 좌표계로 변환하여 사용\n",
    "bus_stations_clean = bus_stations_clean.to_crs(CRS_METER)\n",
    "print(f\"이상치 제거 전 버스 정류장 수: {len(bus_stations)}\")\n",
    "print(f\"이상치 제거 후 버스 정류장 수: {len(bus_stations_clean)}\")"
   ]
  },
  {
   "cell_type": "code",
   "execution_count": 17,
   "id": "64689b99",
   "metadata": {},
   "outputs": [
    {
     "name": "stdout",
     "output_type": "stream",
     "text": [
      "거리 계산 완.\n"
     ]
    }
   ],
   "source": [
    "# 거리 계산\n",
    "\n",
    "# 지하철 거리 계산\n",
    "nearest_subway_dist = []\n",
    "for bike_station_geom in bike_stations.geometry:\n",
    "    # 정제된 지하철 데이터 사용\n",
    "    dist = subway_stations_clean.distance(bike_station_geom).min() \n",
    "    nearest_subway_dist.append(dist)\n",
    "\n",
    "# 버스 거리 계산\n",
    "nearest_bus_dist = []\n",
    "for bike_station_geom in bike_stations.geometry:\n",
    "    # 정제된 버스 데이터 사용\n",
    "    dist = bus_stations_clean.distance(bike_station_geom).min()\n",
    "    nearest_bus_dist.append(dist)\n",
    "\n",
    "# 결과 저장 및 반올림\n",
    "bike_stations['nearest_subway_dist_m'] = np.array(nearest_subway_dist).round(2)\n",
    "bike_stations['nearest_bus_dist_m'] = np.array(nearest_bus_dist).round(2)\n",
    "print(\"거리 계산 완.\")"
   ]
  },
  {
   "cell_type": "code",
   "execution_count": 18,
   "id": "f59767b0",
   "metadata": {},
   "outputs": [
    {
     "name": "stdout",
     "output_type": "stream",
     "text": [
      "이상치 제거 전 대여소 수: 3395\n",
      "이상치 제거 후 대여소 수: 3318\n"
     ]
    }
   ],
   "source": [
    "MAX_DISTANCE_M = 10000 \n",
    "\n",
    "# 지하철 거리 또는 버스 거리 중 하나라도 MAX_DISTANCE_M을 초과하는 행을 제거\n",
    "bike_stations_clean = bike_stations[\n",
    "    (bike_stations['nearest_subway_dist_m'] < MAX_DISTANCE_M) & \n",
    "    (bike_stations['nearest_bus_dist_m'] < MAX_DISTANCE_M)\n",
    "].copy()\n",
    "\n",
    "print(f\"이상치 제거 전 대여소 수: {len(bike_stations)}\")\n",
    "print(f\"이상치 제거 후 대여소 수: {len(bike_stations_clean)}\")"
   ]
  },
  {
   "cell_type": "markdown",
   "id": "59540df5",
   "metadata": {},
   "source": [
    "# 이상치 제거 후 최소 거리 계산"
   ]
  },
  {
   "cell_type": "code",
   "execution_count": 19,
   "id": "64d28173",
   "metadata": {},
   "outputs": [
    {
     "name": "stdout",
     "output_type": "stream",
     "text": [
      "### 지하철역, 버스 정류장 최소 거리 계산 완 ###\n",
      "   대여소_ID  nearest_subway_dist_m  nearest_bus_dist_m\n",
      "2  ST-997                1011.88               24.27\n",
      "3  ST-996                 504.22               63.21\n",
      "4  ST-995                 777.29               65.25\n",
      "5  ST-994                 560.82              102.10\n",
      "6  ST-993                 401.02               97.40\n"
     ]
    }
   ],
   "source": [
    "# 최소 거리 계산\n",
    "bike_stations_clean = bike_stations_clean.to_crs(CRS_METER)\n",
    "subway_stations_clean = subway_stations_clean.to_crs(CRS_METER)\n",
    "bus_stations_clean = bus_stations_clean.to_crs(CRS_METER)\n",
    "\n",
    "nearest_bus_dist = []\n",
    "nearest_subway_dist = []\n",
    "\n",
    "for bike_station_geom in bike_stations_clean.geometry:\n",
    "    dist = bus_stations_clean.distance(bike_station_geom).min()\n",
    "    nearest_bus_dist.append(dist)\n",
    "\n",
    "for bike_station_geom in bike_stations_clean.geometry:\n",
    "    dist = subway_stations_clean.distance(bike_station_geom).min()\n",
    "    nearest_subway_dist.append(dist)\n",
    "\n",
    "# 소수점 2자리까지\n",
    "bike_stations_clean['nearest_bus_dist_m'] = np.array(nearest_bus_dist).round(2)\n",
    "bike_stations_clean['nearest_subway_dist_m'] = np.array(nearest_subway_dist).round(2)\n",
    "\n",
    "# 결과 저장\n",
    "print(\"### 지하철역, 버스 정류장 최소 거리 계산 완 ###\")\n",
    "print(bike_stations_clean[['대여소_ID', 'nearest_subway_dist_m', 'nearest_bus_dist_m']].head()) "
   ]
  },
  {
   "cell_type": "code",
   "execution_count": 20,
   "id": "156240a1",
   "metadata": {},
   "outputs": [
    {
     "data": {
      "text/html": [
       "<div>\n",
       "<style scoped>\n",
       "    .dataframe tbody tr th:only-of-type {\n",
       "        vertical-align: middle;\n",
       "    }\n",
       "\n",
       "    .dataframe tbody tr th {\n",
       "        vertical-align: top;\n",
       "    }\n",
       "\n",
       "    .dataframe thead th {\n",
       "        text-align: right;\n",
       "    }\n",
       "</style>\n",
       "<table border=\"1\" class=\"dataframe\">\n",
       "  <thead>\n",
       "    <tr style=\"text-align: right;\">\n",
       "      <th></th>\n",
       "      <th>대여소_ID</th>\n",
       "      <th>nearest_subway_dist_m</th>\n",
       "      <th>nearest_bus_dist_m</th>\n",
       "    </tr>\n",
       "  </thead>\n",
       "  <tbody>\n",
       "    <tr>\n",
       "      <th>2</th>\n",
       "      <td>ST-997</td>\n",
       "      <td>1011.88</td>\n",
       "      <td>24.27</td>\n",
       "    </tr>\n",
       "    <tr>\n",
       "      <th>3</th>\n",
       "      <td>ST-996</td>\n",
       "      <td>504.22</td>\n",
       "      <td>63.21</td>\n",
       "    </tr>\n",
       "    <tr>\n",
       "      <th>4</th>\n",
       "      <td>ST-995</td>\n",
       "      <td>777.29</td>\n",
       "      <td>65.25</td>\n",
       "    </tr>\n",
       "    <tr>\n",
       "      <th>5</th>\n",
       "      <td>ST-994</td>\n",
       "      <td>560.82</td>\n",
       "      <td>102.10</td>\n",
       "    </tr>\n",
       "    <tr>\n",
       "      <th>6</th>\n",
       "      <td>ST-993</td>\n",
       "      <td>401.02</td>\n",
       "      <td>97.40</td>\n",
       "    </tr>\n",
       "    <tr>\n",
       "      <th>...</th>\n",
       "      <td>...</td>\n",
       "      <td>...</td>\n",
       "      <td>...</td>\n",
       "    </tr>\n",
       "    <tr>\n",
       "      <th>3389</th>\n",
       "      <td>ST-1003</td>\n",
       "      <td>1096.60</td>\n",
       "      <td>68.32</td>\n",
       "    </tr>\n",
       "    <tr>\n",
       "      <th>3390</th>\n",
       "      <td>ST-1002</td>\n",
       "      <td>611.71</td>\n",
       "      <td>92.05</td>\n",
       "    </tr>\n",
       "    <tr>\n",
       "      <th>3392</th>\n",
       "      <td>ST-1000</td>\n",
       "      <td>240.12</td>\n",
       "      <td>10.14</td>\n",
       "    </tr>\n",
       "    <tr>\n",
       "      <th>3393</th>\n",
       "      <td>ST-100</td>\n",
       "      <td>510.95</td>\n",
       "      <td>227.68</td>\n",
       "    </tr>\n",
       "    <tr>\n",
       "      <th>3394</th>\n",
       "      <td>ST-10</td>\n",
       "      <td>560.21</td>\n",
       "      <td>115.76</td>\n",
       "    </tr>\n",
       "  </tbody>\n",
       "</table>\n",
       "<p>3318 rows × 3 columns</p>\n",
       "</div>"
      ],
      "text/plain": [
       "       대여소_ID  nearest_subway_dist_m  nearest_bus_dist_m\n",
       "2      ST-997                1011.88               24.27\n",
       "3      ST-996                 504.22               63.21\n",
       "4      ST-995                 777.29               65.25\n",
       "5      ST-994                 560.82              102.10\n",
       "6      ST-993                 401.02               97.40\n",
       "...       ...                    ...                 ...\n",
       "3389  ST-1003                1096.60               68.32\n",
       "3390  ST-1002                 611.71               92.05\n",
       "3392  ST-1000                 240.12               10.14\n",
       "3393   ST-100                 510.95              227.68\n",
       "3394    ST-10                 560.21              115.76\n",
       "\n",
       "[3318 rows x 3 columns]"
      ]
     },
     "execution_count": 20,
     "metadata": {},
     "output_type": "execute_result"
    }
   ],
   "source": [
    "BIKE_ID_COL = '대여소_ID' \n",
    "\n",
    "df = bike_stations_clean[[\n",
    "    BIKE_ID_COL, \n",
    "    'nearest_subway_dist_m', \n",
    "    'nearest_bus_dist_m'\n",
    "]].copy()\n",
    "df"
   ]
  },
  {
   "cell_type": "code",
   "execution_count": 22,
   "id": "35b3160f",
   "metadata": {},
   "outputs": [
    {
     "name": "stdout",
     "output_type": "stream",
     "text": [
      "'data/seoul_bike_accessibility_features.csv'에 저장되었습니다.\n"
     ]
    }
   ],
   "source": [
    "# CSV 파일로 저장\n",
    "csv_path = 'data/seoul_bike_accessibility_features.csv'\n",
    "\n",
    "# CSV 파일로 저장 (인덱스 제외, 인코딩: 한글 지원 cp949)\n",
    "df.to_csv(csv_path, index=False, encoding='cp949')\n",
    "\n",
    "print(f\"'{csv_path}'에 저장되었습니다.\")"
   ]
  }
 ],
 "metadata": {
  "kernelspec": {
   "display_name": "base",
   "language": "python",
   "name": "python3"
  },
  "language_info": {
   "codemirror_mode": {
    "name": "ipython",
    "version": 3
   },
   "file_extension": ".py",
   "mimetype": "text/x-python",
   "name": "python",
   "nbconvert_exporter": "python",
   "pygments_lexer": "ipython3",
   "version": "3.12.7"
  }
 },
 "nbformat": 4,
 "nbformat_minor": 5
}
